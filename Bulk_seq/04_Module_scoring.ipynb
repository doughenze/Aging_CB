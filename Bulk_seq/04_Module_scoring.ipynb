{
 "cells": [
  {
   "cell_type": "code",
   "execution_count": null,
   "id": "25d39d55-3326-4ea7-85ec-8d754a04bd4e",
   "metadata": {},
   "outputs": [],
   "source": [
    "import pandas as pd\n",
    "import scanpy as sc\n",
    "import seaborn as sns\n",
    "import matplotlib.pyplot as plt\n",
    "\n",
    "df = pd.read_csv('/hpc/projects/group.quake/doug/bulk_seq/sorted_Microglia_bulk.csv', index_col=0)\n",
    "\n",
    "metadata_list = [col.split('_') for col in df.columns]\n",
    "\n",
    "metadata_list = [x if len(x) == 4 else x + ['Unknown']*(4-len(x)) for x in metadata_list]\n",
    "\n",
    "metadata_df = pd.DataFrame(metadata_list, columns=['celltype', 'Age', 'Region', 'Replicate','Extra'], index=df.columns)\n",
    "metadata_df = metadata_df.drop('Extra',axis=1)\n",
    "\n",
    "adata = sc.AnnData(X=df.T)  # Transpose since AnnData expects cells as rows, genes as columns\n",
    "adata.obs = metadata_df\n",
    "\n",
    "adata.var.index = df.index\n",
    "\n",
    "sc.pp.normalize_total(adata, target_sum=1e4)\n",
    "sc.pp.log1p(adata)\n",
    "adata.obs['Age'] = adata.obs['Age'].str.replace('xM', '').astype(int)"
   ]
  },
  {
   "cell_type": "code",
   "execution_count": null,
   "id": "973ea492-9ed7-4853-a5a3-33d6e84caa0d",
   "metadata": {},
   "outputs": [],
   "source": [
    "neurop_full = ['Axl','Cd9','Csf1r','Hif1a','Itgax','Tmem163','Apoe','Cybb','Lilr4b','Lgals3']\n",
    "\n",
    "DAM = ['Trem2','Apoe','Tyrobp','Itgax','Clec7a','Lpl','Cst7','Spp1','Axl','Cd9']\n",
    "\n",
    "Act_score = ['B2m','Trem2','Ccl2','Apoe','Axl','Itgax','Cd9','C1qc','Lyz2','Ctss']\n",
    "\n",
    "senescence = ['Ccl2','Tgfb1','Il1b','Mmp3','Ccl5','Cxcl10','Serpine1','Cdkn2a','Glb1','Tnf','Il6','Cdkn1a']\n",
    "\n",
    "anti_senescence = ['Cdk4','Rb1','Cdk2','Lmnb1','Mki67','Cdk6']\n",
    "\n",
    "LDAM = ['Slc25a5', 'Npl', 'Angptl7','Pde2a','Ldhb','Cd63','Sepp1','Sdcbp','Adipor1','Rbbp4','Cndp2','Hsd17b4','Gpd11','Dazap2','Hnmpk','Rapsn','Cat','Kl','Nampt','Acsl1','Dpyd','Cd163']\n",
    "\n",
    "interest = ['Cdk2',\n",
    " 'Cxcl2',\n",
    " 'Slamf9',\n",
    " 'Arhgap5',\n",
    " 'Ctss',\n",
    " 'Atp2a3',\n",
    " 'H2-K1']"
   ]
  },
  {
   "cell_type": "code",
   "execution_count": null,
   "id": "9608bc35-dffd-4e4c-b372-d241d6e11f30",
   "metadata": {},
   "outputs": [],
   "source": [
    "sc.tl.score_genes(adata,gene_list=DAM,score_name='DAM')\n",
    "sc.tl.score_genes(adata,gene_list=Act_score,score_name='actscore')\n",
    "sc.tl.score_genes(adata,gene_list=senescence,score_name='senescence')\n",
    "sc.tl.score_genes(adata,gene_list=anti_senescence,score_name='anti_senescence')\n",
    "sc.tl.score_genes(adata,gene_list=LDAM, score_name = 'LDAM')\n",
    "sc.tl.score_genes(adata,gene_list=neurop_full,score_name='neurop')\n",
    "sc.tl.score_genes(adata,gene_list=interest,score_name='interest')"
   ]
  },
  {
   "cell_type": "code",
   "execution_count": null,
   "id": "68a23391-fe3e-4eef-8ee7-400830ea99db",
   "metadata": {},
   "outputs": [],
   "source": [
    "def plot_boxplot_by_age_region(adata, score_name, output_pdf_path=None):\n",
    "    \"\"\"\n",
    "    Plot a boxplot of the score split by age and hue'd by region, and optionally save it to a PDF.\n",
    "    \n",
    "    Parameters:\n",
    "    - adata: AnnData object containing the data.\n",
    "    - score_name: The name of the score to be plotted (must be present in adata.obs).\n",
    "    - output_pdf_path: Optional. If provided, the plot will be saved to this path as a PDF.\n",
    "    \n",
    "    Returns:\n",
    "    - A boxplot split by 'Age' and hue'd by 'Region', displayed on screen or saved as a PDF.\n",
    "    \"\"\"\n",
    "    # Ensure the score is in adata.obs\n",
    "    if score_name not in adata.obs.columns:\n",
    "        raise ValueError(f\"{score_name} not found in adata.obs columns.\")\n",
    "    \n",
    "    # Create a DataFrame from adata.obs with relevant columns\n",
    "    plot_data = adata.obs[['Age', 'Region', score_name]].copy()\n",
    "    \n",
    "    # Plot the boxplot using seaborn\n",
    "    plt.figure(figsize=(10, 6))\n",
    "    sns.boxplot(data=plot_data, x='Age', y=score_name, hue='Region')\n",
    "    \n",
    "    # Customize plot labels and title\n",
    "    plt.title(f'Boxplot of {score_name} split by Age and Region')\n",
    "    plt.xlabel('Age')\n",
    "    plt.ylabel(f'{score_name} Score')\n",
    "    plt.legend(title='Region')\n",
    "    \n",
    "    # Check if output_pdf_path is provided; if so, save the plot to the PDF\n",
    "    if output_pdf_path:\n",
    "        plt.savefig(output_pdf_path, format='pdf')\n",
    "        print(f\"Plot saved to {output_pdf_path}\")\n",
    "    \n",
    "    # Show the plot\n",
    "    plt.show()\n",
    "\n",
    "    # Optionally, close the plot to avoid memory issues if used in a loop or script\n",
    "    plt.close()"
   ]
  },
  {
   "cell_type": "code",
   "execution_count": null,
   "id": "16b91849-9770-4d5b-ae4c-26356bb95005",
   "metadata": {},
   "outputs": [],
   "source": [
    "plot_boxplot_by_age_region(adata,'neurop',output_pdf_path='output/neurop_score.pdf')"
   ]
  },
  {
   "cell_type": "code",
   "execution_count": null,
   "id": "206083ce-d2b5-4300-9492-e1b412063d64",
   "metadata": {},
   "outputs": [],
   "source": [
    "plot_boxplot_by_age_region(adata,'DAM',output_pdf_path='output/DAM.pdf')"
   ]
  },
  {
   "cell_type": "code",
   "execution_count": null,
   "id": "f44d8194-2d23-4720-b361-1169b9e01b77",
   "metadata": {},
   "outputs": [],
   "source": [
    "plot_boxplot_by_age_region(adata,'actscore',output_pdf_path='output/actscore.pdf')"
   ]
  },
  {
   "cell_type": "code",
   "execution_count": null,
   "id": "dcf4ca99-9792-4ac2-86a5-c1b12539d65f",
   "metadata": {},
   "outputs": [],
   "source": [
    "plot_boxplot_by_age_region(adata,'senescence',output_pdf_path='output/senescence.pdf')"
   ]
  },
  {
   "cell_type": "code",
   "execution_count": null,
   "id": "87d93dbc-7854-4096-b6a8-e8dbd31c81d8",
   "metadata": {},
   "outputs": [],
   "source": [
    "plot_boxplot_by_age_region(adata,'anti_senescence',output_pdf_path='output/anti_senescence.pdf')"
   ]
  },
  {
   "cell_type": "code",
   "execution_count": null,
   "id": "f03fe667-8f95-4ea7-8adc-56b6b84ab7c6",
   "metadata": {},
   "outputs": [],
   "source": [
    "plot_boxplot_by_age_region(adata,'LDAM',output_pdf_path='output/LDAM_score.pdf')"
   ]
  },
  {
   "cell_type": "code",
   "execution_count": null,
   "id": "1bc09586-4627-46ab-8346-d1d5309b2c27",
   "metadata": {},
   "outputs": [],
   "source": [
    "plot_boxplot_by_age_region(adata,'interest',output_pdf_path='output/MERFISH_score.pdf')"
   ]
  }
 ],
 "metadata": {
  "kernelspec": {
   "display_name": "Vizgen_2",
   "language": "python",
   "name": "vizgen_2"
  },
  "language_info": {
   "codemirror_mode": {
    "name": "ipython",
    "version": 3
   },
   "file_extension": ".py",
   "mimetype": "text/x-python",
   "name": "python",
   "nbconvert_exporter": "python",
   "pygments_lexer": "ipython3",
   "version": "3.9.19"
  }
 },
 "nbformat": 4,
 "nbformat_minor": 5
}
