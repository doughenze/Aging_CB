{
 "cells": [
  {
   "cell_type": "code",
   "execution_count": null,
   "id": "9e23b2f4-7fe7-4838-b798-86e0117e6e24",
   "metadata": {},
   "outputs": [],
   "source": [
    "import pandas as pd\n",
    "import scanpy as sc\n",
    "from nheatmap import nhm\n",
    "from scipy.stats import zscore\n",
    "\n",
    "df = pd.read_csv('/hpc/projects/group.quake/doug/bulk_seq/sorted_Microglia_bulk.csv', index_col=0)\n",
    "\n",
    "metadata_list = [col.split('_') for col in df.columns]\n",
    "\n",
    "metadata_list = [x if len(x) == 4 else x + ['Unknown']*(4-len(x)) for x in metadata_list]\n",
    "\n",
    "metadata_df = pd.DataFrame(metadata_list, columns=['celltype', 'Age', 'Region', 'Replicate','Extra'], index=df.columns)\n",
    "metadata_df = metadata_df.drop('Extra',axis=1)\n",
    "\n",
    "\n",
    "adata = sc.AnnData(X=df.T)  # Transpose since AnnData expects cells as rows, genes as columns\n",
    "adata.obs = metadata_df\n",
    "\n",
    "adata.var.index = df.index\n",
    "\n",
    "sc.pp.normalize_total(adata, target_sum=1e4)\n",
    "sc.pp.log1p(adata)"
   ]
  },
  {
   "cell_type": "code",
   "execution_count": null,
   "id": "ae853c1e-4e7e-494a-9282-330cd1617794",
   "metadata": {},
   "outputs": [],
   "source": [
    "new_ad = adata[(adata.obs.Age.isin(['22xM','3xM'])) & (adata.obs.Region.isin(['CB','HP']))]\n",
    "\n",
    "CB_age = pd.read_excel('22CB_3CB_for_plot.xlsx').sort_values('log2FoldChange')\n",
    "CB_HP = pd.read_excel('22cb_22hp_for_plot.xlsx').sort_values('log2FoldChange')\n",
    "\n",
    "CB_HP = CB_HP[CB_HP.padj < 1e-10]\n",
    "CB_age_up = CB_age[CB_age.padj < 1e-10]\n",
    "CB_age_down = CB_age[CB_age.padj <0.01]\n",
    "\n",
    "add_these_genes = ['Axl', 'C4b', 'Il2rg', 'Apoe', 'Ehd1', 'Fgr', 'Tnf', 'Atp1a3', 'Lgals3bp', 'Syp', 'Lgals3', 'Cd22', 'Ccl2', 'Ldlr', 'Cxcl16', 'B2m', 'Slc7a1', 'Ank2',\n",
    "                   'Lilrb4a', 'Stat1', 'Ifi207','Ddx60', 'Tnfsf8', 'Gm4951','Fcrls','Cd22','Lpl','Apoe','Cybb','Itgax', 'Spp1', 'Hcar2']\n",
    "\n",
    "what_about_these = [\n",
    "    'Cxcl13', 'Ccl5', 'Vcam1', 'Cxcl10', 'Il1rn', 'Tnfsf8', 'Itgax', 'Apoe', 'Isg15', 'Cd74', 'Spp1', 'Fgr', 'Tnf', 'Rtp4', 'Nsg1', 'Lgals3', 'Cd22', 'Csf1', 'Stat1', 'Ccl2',\n",
    "    'Cxcl16', 'Ccl3', 'Ccl4', 'Tap1', 'Gla', 'Plaur', 'Arfgef2', 'Tnfsf13b', 'Lpl', 'Cd72', 'Pdgfa', 'Axl', 'C4b', 'Il2rg', 'Apoe', 'Ehd1', 'Fgr', 'Tnf', 'Atp1a3', 'Lgals3bp',\n",
    "    'Syp', 'Lgals3', 'Cd22', 'Ccl2', 'Ldlr', 'Cxcl16', 'B2m', 'Slc7a1', 'Ank2', 'Lilrb4a', 'Stat1', 'Ifi207', 'Ddx60', 'Tnfsf8', 'Gm4951'\n",
    "]\n",
    "\n",
    "subset_list = set(CB_age_up.tail(10).Gene.tolist() + add_these_genes + CB_age_down.head(10).Gene.tolist() + CB_HP.head(10).Gene.tolist()) - set(['Nid1','Syp','5330438l03Rik','Ildr2','Ank2','Vcam1'])\n",
    "subset_list = [i for i in subset_list]"
   ]
  },
  {
   "cell_type": "code",
   "execution_count": null,
   "id": "acd860e5-4ed0-49c0-bdc1-35f5eaa936bb",
   "metadata": {},
   "outputs": [],
   "source": [
    "subset_genes = new_ad[:,subset_list]\n",
    "counts_matrix = subset_genes.X\n",
    "gene_names = subset_genes.var_names\n",
    "cell_names = subset_genes.obs_names\n",
    "\n",
    "# Create the DataFrame with obs_names as rows and var_names as columns\n",
    "counts_df = pd.DataFrame(data=counts_matrix, index=cell_names, columns=gene_names)\n",
    "zscored_df = counts_df.apply(zscore, axis=0)\n",
    "\n",
    "subset_df = zscored_df\n",
    "\n",
    "dfc = subset_genes.obs.loc[:,['Region','Age']]\n",
    "dfr = subset_genes.obs.loc[:,['Region']]\n",
    "\n",
    "cmaps={'Region':'Paired', 'Age':'RdYlGn'}\n",
    "\n",
    "g = nhm(data=subset_df.T, dfc=dfc, figsize=(10, 13), linewidths=0, cmaps=cmaps, showxticks=False, cmapCenter='coolwarm')\n",
    "g.hcluster(method='single', metric='cosine', optimal_ordering=False)\n",
    "fig, plots = g.run()\n",
    "fig.savefig('output/sorted_microglia_clusters.pdf', bbox_inches='tight')"
   ]
  }
 ],
 "metadata": {
  "kernelspec": {
   "display_name": "Vizgen_2",
   "language": "python",
   "name": "vizgen_2"
  },
  "language_info": {
   "codemirror_mode": {
    "name": "ipython",
    "version": 3
   },
   "file_extension": ".py",
   "mimetype": "text/x-python",
   "name": "python",
   "nbconvert_exporter": "python",
   "pygments_lexer": "ipython3",
   "version": "3.9.19"
  }
 },
 "nbformat": 4,
 "nbformat_minor": 5
}
