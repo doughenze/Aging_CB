{
 "cells": [
  {
   "cell_type": "code",
   "execution_count": null,
   "id": "c7d7310a-de56-4015-b2cc-bb0d050a29c7",
   "metadata": {},
   "outputs": [],
   "source": [
    "# author: \"James Haberberger\"\n",
    "import pandas as pd\n",
    "import scanpy as sc\n",
    "import anndata as ad\n",
    "import numpy as np\n",
    "import matplotlib.pyplot as plt\n",
    "from scipy.sparse import csr_matrix\n",
    "import seaborn as sns"
   ]
  },
  {
   "cell_type": "code",
   "execution_count": null,
   "id": "ead1834d-4a39-452d-94af-b4c2e94b1f5d",
   "metadata": {},
   "outputs": [],
   "source": [
    "adata = ad.AnnData(pd.read_csv('/hpc/projects/group.quake/doug/bulk_seq/sorted_Microglia_bulk.csv').set_index(\"Unnamed: 0\").T)\n",
    "adata.obs[\"age\"] = [str(x.split(\"_\")[1].split(\"x\")[0]) for x in adata.obs.index]\n",
    "adata.obs[\"region\"] = [x.split(\"_\")[2] for x in adata.obs.index]\n",
    "adata.X = csr_matrix(adata.X.astype(float))"
   ]
  },
  {
   "cell_type": "code",
   "execution_count": null,
   "id": "4f3acbf3-2b26-4d1e-b2d2-000d49ceb6e5",
   "metadata": {},
   "outputs": [],
   "source": [
    "adata.layers[\"raw\"] = adata.X.copy()"
   ]
  },
  {
   "cell_type": "code",
   "execution_count": null,
   "id": "05dd53cd-1ff7-4988-8ceb-66ed136f0046",
   "metadata": {},
   "outputs": [],
   "source": [
    "sc.pp.normalize_total(adata)\n",
    "sc.pp.log1p(adata)"
   ]
  },
  {
   "cell_type": "code",
   "execution_count": null,
   "id": "7f99c6a7-6ef7-428a-acdb-45b4419e0eea",
   "metadata": {},
   "outputs": [],
   "source": [
    "from sklearn.decomposition import PCA\n",
    "pca = PCA(n_components=2)\n",
    "adata.obsm[\"X_PCA\"] = pca.fit_transform(adata.X.toarray())"
   ]
  },
  {
   "cell_type": "code",
   "execution_count": null,
   "id": "756cb214-bd06-4f17-ae21-4bf3d2c9e64d",
   "metadata": {},
   "outputs": [],
   "source": [
    "adata.obs[\"PC1\"] = adata.obsm[\"X_PCA\"][:, 0]\n",
    "adata.obs[\"PC2\"] = -adata.obsm[\"X_PCA\"][:, 1]"
   ]
  },
  {
   "cell_type": "code",
   "execution_count": null,
   "id": "ee93b1ad-1cd1-43ed-8803-5fe801a6a1d9",
   "metadata": {},
   "outputs": [],
   "source": [
    "palette = {\n",
    "    \"1\": \"orange\",\n",
    "    \"3\": \"red\",\n",
    "    \"22\": \"brown\"\n",
    "}\n",
    "adata.obs[\"Age\"] = adata.obs[\"age\"].astype(float)\n",
    "\n",
    "sns.scatterplot(data=adata.obs, x=\"PC1\", y=\"PC2\", hue=\"age\", palette=palette, hue_order=[\"1\", \"3\", \"22\"], s=100)\n",
    "plt.legend(title=\"Age\", loc=4)\n",
    "plt.savefig(\"Microglia-Age.pdf\")"
   ]
  },
  {
   "cell_type": "code",
   "execution_count": null,
   "id": "e617ab42-ba89-4b50-9dd4-581631256c15",
   "metadata": {},
   "outputs": [],
   "source": [
    "sns.swarmplot(data=adata.obs, x=\"region\", y=\"PC1\", hue=\"age\", palette=palette, hue_order=[\"1\", \"3\", \"22\"], order=[\"HP\", \"CTX\", \"STR\", \"TH\", \"HTH\", \"CB\"], s=5).set(xlabel=\"Region\", ylabel=\"PC1\")\n",
    "plt.legend(title=\"Age\")\n",
    "plt.savefig(\"Microglia-Region.pdf\")"
   ]
  }
 ],
 "metadata": {
  "kernelspec": {
   "display_name": "Vizgen_2",
   "language": "python",
   "name": "vizgen_2"
  },
  "language_info": {
   "codemirror_mode": {
    "name": "ipython",
    "version": 3
   },
   "file_extension": ".py",
   "mimetype": "text/x-python",
   "name": "python",
   "nbconvert_exporter": "python",
   "pygments_lexer": "ipython3",
   "version": "3.9.19"
  }
 },
 "nbformat": 4,
 "nbformat_minor": 5
}
