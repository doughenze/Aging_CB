{
 "cells": [
  {
   "cell_type": "code",
   "execution_count": null,
   "id": "4be4e0bd-10dd-4f6c-b894-f6a4df6d240c",
   "metadata": {},
   "outputs": [],
   "source": [
    "import scanpy as sc\n",
    "import numpy as np\n",
    "import pandas as pd\n",
    "import matplotlib.pyplot as plt\n",
    "import gseapy as gp\n",
    "from tqdm import tqdm\n",
    "from adjustText import adjust_text\n",
    "import seaborn as sns\n",
    "import sys"
   ]
  },
  {
   "cell_type": "code",
   "execution_count": null,
   "id": "4e99fcea-b1dc-46d9-8351-065df31e6c1a",
   "metadata": {},
   "outputs": [],
   "source": [
    "def plot_celltype_distribution(adata, celltype_column, celltype_of_interest, min_cells=100,savefig=None):\n",
    "    # Filter the data to include only the cell type of interest\n",
    "    adata_filtered = adata[adata.obs[celltype_column] == celltype_of_interest]\n",
    "    \n",
    "    # Group by batchID and Brain_Region to get the count of cells of interest in each region\n",
    "    filtered_grouped = (\n",
    "        adata_filtered.obs.groupby(['batchID', 'Brain_Region'])\n",
    "        .size()\n",
    "        .reset_index(name='Count')\n",
    "    )\n",
    "    \n",
    "    # Group by batchID and Brain_Region to get the total count of cells in each region\n",
    "    total_cells_grouped = (\n",
    "        adata.obs.groupby(['batchID', 'Brain_Region'])\n",
    "        .size()\n",
    "        .reset_index(name='Total_Cells')\n",
    "    )\n",
    "    \n",
    "    # Merge the filtered counts with the total cell counts\n",
    "    merged = pd.merge(filtered_grouped, total_cells_grouped, on=['batchID', 'Brain_Region'])\n",
    "    \n",
    "    # Filter out regions with fewer than the specified minimum number of cells\n",
    "    merged = merged[merged['Total_Cells'] >= min_cells]\n",
    "    \n",
    "    # Group by batchID to get the total count of the cell type of interest in each batch\n",
    "    batch_totals = (\n",
    "        adata_filtered.obs.groupby('batchID')\n",
    "        .size()\n",
    "        .reset_index(name='Batch_Total')\n",
    "    )\n",
    "    \n",
    "    # Merge the data to calculate the percentage of the cell type of interest in each region, normalized by batch total\n",
    "    merged = pd.merge(merged, batch_totals, on='batchID')\n",
    "    merged['Percentage'] = (merged['Count'] / merged['Batch_Total']) * 100\n",
    "    \n",
    "    # Create a bar plot with a strip plot overlay\n",
    "    plt.figure(figsize=(12, 8))\n",
    "    \n",
    "    # Bar plot showing the percentage of the cell type of interest in each brain region, aggregated across batches\n",
    "    sns.barplot(data=merged, x='Brain_Region', y='Percentage', ci='sd',capsize=0.11, color=None)\n",
    "    merged['age'] = merged['batchID'].apply(lambda x: x.split('-')[0])\n",
    "    \n",
    "    # Strip plot showing the percentage for each batchID\n",
    "    merged_young = merged[merged['age'] == '3']\n",
    "    merged_old = merged[merged['age'] == '24']\n",
    "    sns.stripplot(data=merged_young, x='Brain_Region', y='Percentage', hue='batchID', dodge=True, jitter=True, size=8, marker='o', edgecolor='gray',color='gray', alpha=1)\n",
    "    sns.stripplot(data=merged_old, x='Brain_Region', y='Percentage', hue='batchID', dodge=True, jitter=True, size=8, marker='^', edgecolor='black',color='black', alpha=1)\n",
    "    \n",
    "    # Customize the plot\n",
    "    plt.title(f'Percentage of {celltype_of_interest} in Each Brain Region (min {min_cells} cells), normalized by batch')\n",
    "    plt.ylabel('Percentage of Total in Batch')\n",
    "    plt.xlabel('Brain Region')\n",
    "    plt.xticks(rotation=90, ha='center')\n",
    "    plt.legend(title='Batch ID', bbox_to_anchor=(1.05, 1), loc='upper left')\n",
    "    plt.tight_layout()\n",
    "    \n",
    "    if savefig == None:\n",
    "        pass\n",
    "    else:\n",
    "        plt.savefig(savefig, format='pdf')\n",
    "    \n",
    "    # Show the plot\n",
    "    plt.show()\n",
    "    return merged"
   ]
  },
  {
   "cell_type": "code",
   "execution_count": null,
   "id": "0fd647f1-ff09-4a94-b147-440ad4a42334",
   "metadata": {},
   "outputs": [],
   "source": [
    "adata = sc.read_h5ad('ABC_cleaned.h5ad')\n",
    "adata_HQ = adata[(adata.obs.subclass_label_confidence > 0.5)]\n",
    "adata_HQ = adata_HQ[adata_HQ.obs.Brain_Region != 'Unlabeled']"
   ]
  },
  {
   "cell_type": "code",
   "execution_count": null,
   "id": "749982f1-f49f-47a4-8011-1df0ce5a886d",
   "metadata": {},
   "outputs": [],
   "source": [
    "plot_celltype_distribution(adata_HQ, 'subclass_label_transfer', 'Microglia NN',savefig='SI_Figures/Microglia.pdf')"
   ]
  },
  {
   "cell_type": "code",
   "execution_count": null,
   "id": "f4fccd62-71f1-46b7-9ee6-008659153813",
   "metadata": {},
   "outputs": [],
   "source": [
    "# select even further down for easier visualization, remove the very sparse cell types\n",
    "adata_HQ = adata_HQ[adata_HQ.obs.adjusted_subclass_label_confidence > 0.5]\n",
    "\n",
    "cell_type_counts = adata_HQ.obs['subclass_label_transfer'].value_counts()\n",
    "\n",
    "# Filter the cell types that have more than 1000 cells\n",
    "cell_types_to_keep = cell_type_counts[cell_type_counts > 1000].index\n",
    "\n",
    "# Subset the adata object to keep only those cell types\n",
    "adata_subset = adata_HQ[adata_HQ.obs['subclass_label_transfer'].isin(cell_types_to_keep)].copy()"
   ]
  },
  {
   "cell_type": "code",
   "execution_count": null,
   "id": "9c0051ad-6658-4506-bd57-2d9d1b149e18",
   "metadata": {},
   "outputs": [],
   "source": [
    "# find marker genes\n",
    "sc.tl.rank_genes_groups(adata_subset, groupby='subclass_label_transfer', method='wilcoxon', n_genes=50)\n",
    "sc.tl.filter_rank_genes_groups(adata_subset,min_fold_change=1,min_in_group_fraction=0.3,max_out_group_fraction=0.5)"
   ]
  },
  {
   "cell_type": "code",
   "execution_count": null,
   "id": "d692f42c-b8cd-4981-936d-a4b0baac30bc",
   "metadata": {},
   "outputs": [],
   "source": [
    "# use the genes which we found from the filter rank genes groups\n",
    "sc.pl.dotplot(adata_subset, var_names=['Aqp4','Gfap','Igf2','Gdf10','Cbln1','Pvalb','Ntn1','Car8','Sln','Gpc4','Flt1','Foxj1', 'Tfap2d','Grin2a','Itpr1','Hcn1','Tshz2', \\\n",
    "                                  'Rprm','Nptx1','Npy','Crhbp', 'Vipr2','Gpr88','Drd2','Laptm5','Pdgfra','Tac1','Mog','Spp1','Atp2a3', \\\n",
    "                                      'Gad1','Itpr1','Sst','Prkcd','Igf2','Vip'], groupby='subclass_label_transfer', standard_scale='var',save='_full_object_subclass_labels.pdf')"
   ]
  },
  {
   "cell_type": "code",
   "execution_count": null,
   "id": "969f4c2d-454a-44bc-991f-793c69858acd",
   "metadata": {},
   "outputs": [],
   "source": [
    "# Visualize the full raw brain\n",
    "fig, ax = plt.subplots(figsize=(14,14))\n",
    "sc.pl.spatial(adata[(adata.obs.batchID == '3-mo-female-1-rev2')],color='Brain_Region',spot_size=25,ax=ax)\n",
    "fig.savefig('SI_Figures/spatial_plot_region.pdf', format='pdf')"
   ]
  }
 ],
 "metadata": {
  "kernelspec": {
   "display_name": "Vizgen_2",
   "language": "python",
   "name": "vizgen_2"
  },
  "language_info": {
   "codemirror_mode": {
    "name": "ipython",
    "version": 3
   },
   "file_extension": ".py",
   "mimetype": "text/x-python",
   "name": "python",
   "nbconvert_exporter": "python",
   "pygments_lexer": "ipython3",
   "version": "3.9.19"
  }
 },
 "nbformat": 4,
 "nbformat_minor": 5
}
