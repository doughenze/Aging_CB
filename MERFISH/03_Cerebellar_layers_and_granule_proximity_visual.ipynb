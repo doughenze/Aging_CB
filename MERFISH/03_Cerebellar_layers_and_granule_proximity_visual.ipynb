{
 "cells": [
  {
   "cell_type": "code",
   "execution_count": null,
   "id": "14d60364-2f3e-4228-89dc-c653517ca41c",
   "metadata": {},
   "outputs": [],
   "source": [
    "import scanpy as sc\n",
    "import numpy as np\n",
    "import pandas as pd\n",
    "import matplotlib.pyplot as plt\n",
    "import gseapy as gp\n",
    "from tqdm import tqdm\n",
    "from adjustText import adjust_text\n",
    "import seaborn as sns\n",
    "import anndata\n",
    "from scipy.spatial import cKDTree"
   ]
  },
  {
   "cell_type": "code",
   "execution_count": null,
   "id": "b07059ee-ee65-474e-9efe-1467a4ef6052",
   "metadata": {},
   "outputs": [],
   "source": [
    "adata = sc.read_h5ad('ABC_cleaned.h5ad')\n",
    "adata_HQ = adata[adata.obs.subclass_label_confidence > 0.5]\n",
    "\n",
    "adata_HQ.X = adata_HQ.layers['counts'].toarray().copy()\n",
    "sc.pp.normalize_total(adata_HQ)\n",
    "sc.pp.log1p(adata_HQ)"
   ]
  },
  {
   "cell_type": "code",
   "execution_count": null,
   "id": "490eb0aa-d842-4b37-b09f-8cba0ad72a80",
   "metadata": {},
   "outputs": [],
   "source": [
    "def plot_proximity(ad,batch,cell1, cell2,threshold=30,cell1_name = 'Microglia',cell2_name='Granule'):\n",
    "    test_ad = ad[ad.obs.batchID == batch]\n",
    "\n",
    "    cell1_mask = test_ad.obs['subclass_label_transfer'] == cell1\n",
    "    cell1_coords = test_ad.obs.loc[cell1_mask, ['x', 'y']]\n",
    "\n",
    "    cell2_mask = test_ad.obs['subclass_label_transfer'].isin([cell2])\n",
    "    cell2_coords = test_ad.obs.loc[cell2_mask, ['x', 'y']]\n",
    "\n",
    "    tree = cKDTree(cell1_coords)\n",
    "    distances, indices = tree.query(cell2_coords, distance_upper_bound=30)\n",
    "\n",
    "    test_ad.obs['highlight'] = 'Other'  # Initialize all cells as \"Other\"\n",
    "\n",
    "    test_ad.obs.loc[cell1_mask, 'highlight'] = cell1_name\n",
    "    test_ad.obs.loc[cell2_mask, 'highlight'] = np.where(distances < 30, f'Nearby {cell2_name}', f'Far {cell2_name}')\n",
    "\n",
    "    fig, ax = plt.subplots(figsize=(14, 14))\n",
    "    sc.pl.spatial(\n",
    "        test_ad,\n",
    "        color='highlight',\n",
    "        palette=['green', 'brown', 'blue', 'darkgrey'],  # Colors: 'Microglia', 'Nearby Granule', 'Far Granule', 'Other'\n",
    "        spot_size=15,\n",
    "        ax=ax\n",
    "    )\n",
    "    fig.savefig(f'Figures/Peri_{cell2_name}_{batch}.pdf', format='pdf')\n",
    "    \n",
    "def label_microglia_layers(ad, cell_type_col='updated_celltype', region_col='Brain_Region', \n",
    "                           granule_cell_type='Granule cells', purkinje_cell_type='Purkinje cells', \n",
    "                           microglia_cell_type='Microglia NN', batch_col = 'batchID', distance_threshold=5):\n",
    "    \"\"\"\n",
    "    Labels microglia in the cerebellum based on their proximity to Purkinje cells and Granule cells.\n",
    "    The function adds a new column 'Cerebellum_layer' to adata.obs with the values:\n",
    "    'Molecular layer', 'Granule layer', or 'White matter'.\n",
    "    \n",
    "    Parameters:\n",
    "    adata : AnnData\n",
    "        Annotated data matrix.\n",
    "    cell_type_col : str\n",
    "        Column name in adata.obs that contains the cell type information.\n",
    "    region_col : str\n",
    "        Column name in adata.obs that contains the region information.\n",
    "    granule_cell_type : str\n",
    "        Name of the Granule cell type in the cell_type_col.\n",
    "    purkinje_cell_type : str\n",
    "        Name of the Purkinje cell type in the cell_type_col.\n",
    "    microglia_cell_type : str\n",
    "        Name of the Microglia cell type in the cell_type_col.\n",
    "    distance_threshold : float\n",
    "        Distance threshold (in microns) to define proximity to Granule cells for the Granule layer.\n",
    "    \n",
    "    Returns:\n",
    "    AnnData\n",
    "        AnnData object with an added 'Cerebellum_layer' column in adata.obs.\n",
    "    \"\"\"\n",
    "    \n",
    "    ad.obs['Cerebellum_layer'] = 'White matter'\n",
    "\n",
    "    # Iterate over each unique batchID\n",
    "    for batch_id in ad.obs[batch_col].unique():\n",
    "        print(batch_id)\n",
    "        # Subset the data for the current batch\n",
    "        batch_mask = ad.obs[batch_col] == batch_id\n",
    "        batch_data = ad[batch_mask]\n",
    "\n",
    "        # Identify Microglia within the current batch and cerebellum\n",
    "        microglia_mask = (batch_data.obs['subclass_label_transfer'] == microglia_cell_type) & (batch_data.obs[region_col] == 'Cerebellum')\n",
    "        # Get coordinates of Granule and Purkinje cells within the current batch\n",
    "        granule_coords = batch_data[batch_data.obs[cell_type_col] == granule_cell_type].obs[['x', 'y']].values\n",
    "        purkinje_coords = batch_data[batch_data.obs[cell_type_col] == purkinje_cell_type].obs[['x', 'y']].values\n",
    "\n",
    "        # Get coordinates of Microglia within the current batch\n",
    "        microglia_coords = batch_data[microglia_mask].obs[['x', 'y']].values\n",
    "\n",
    "        # Skip calculation if granule_coords or purkinje_coords is empty\n",
    "        if len(granule_coords) == 0 or len(purkinje_coords) == 0 or len(microglia_coords) == 0:\n",
    "            continue\n",
    "\n",
    "        # Calculate distances from Microglia to Granule and Purkinje cells\n",
    "        distances_to_granule = np.min(distance.cdist(microglia_coords, granule_coords), axis=1)\n",
    "        distances_to_purkinje = np.min(distance.cdist(microglia_coords, purkinje_coords), axis=1)\n",
    "\n",
    "        # Determine if Microglia are within the Granule layer\n",
    "        granule_layer_mask = distances_to_granule <= distance_threshold\n",
    "        batch_data.obs.loc[microglia_mask, 'Cerebellum_layer'] = np.where(granule_layer_mask, 'Granule layer', 'White matter')\n",
    "\n",
    "        # Determine if Microglia are closer to Purkinje cells than Granule cells (Molecular layer)\n",
    "        molecular_layer_mask = distances_to_purkinje < distances_to_granule\n",
    "\n",
    "        # Apply the molecular layer mask only to the subset of microglia\n",
    "        microglia_indices = batch_data.obs.index[microglia_mask]\n",
    "        batch_data.obs.loc[microglia_indices[molecular_layer_mask & ~granule_layer_mask], 'Cerebellum_layer'] = 'Molecular layer'\n",
    "\n",
    "        # Update the original adata with the modified batch_data\n",
    "        ad.obs.loc[batch_mask, 'Cerebellum_layer'] = batch_data.obs['Cerebellum_layer']\n",
    "\n",
    "    return ad\n",
    "\n",
    "def calculate_layer_percentages(adata, age_col='Age', layer_col='Cerebellum_layer'):\n",
    "\n",
    "    # Filter for microglia cells\n",
    "    microglia_data = adata[adata.obs['subclass_label_transfer'] == 'Microglia NN']\n",
    "\n",
    "    # Group by age and layer, then count the occurrences\n",
    "    group_counts = microglia_data.obs.groupby([age_col, layer_col]).size().unstack(fill_value=0)\n",
    "\n",
    "    # Calculate the percentage of microglia in each layer\n",
    "    layer_percentages = (group_counts.T / group_counts.sum(axis=1)).T * 100\n",
    "\n",
    "    return layer_percentages\n",
    "\n",
    "def plot_layer_percentages(layer_percentages,savefig=None):\n",
    "    # Create the stacked bar plot\n",
    "    ax = layer_percentages.plot(kind='bar', stacked=True, figsize=(10, 7), color=['#4daf4a', '#377eb8', '#ff7f00'])\n",
    "\n",
    "    # Set labels and title\n",
    "    ax.set_xlabel('Age')\n",
    "    ax.set_ylabel('Percentage of Microglia')\n",
    "    ax.set_title('Percentage of Microglia in Different Cerebellar Layers at Each Age')\n",
    "    \n",
    "    # Rotate x-axis labels for better readability\n",
    "    plt.xticks(rotation=0)\n",
    "    \n",
    "    # Display the legend\n",
    "    plt.legend(title='Cerebellar Layer', loc='upper right')\n",
    "    if savefig == None:\n",
    "        pass\n",
    "    else:\n",
    "        plt.savefig(savefig, format='pdf')\n",
    "    # Show the plot\n",
    "    plt.show()"
   ]
  },
  {
   "cell_type": "code",
   "execution_count": null,
   "id": "d8cc117b-4b06-497e-ac76-4b6e79a10a0a",
   "metadata": {},
   "outputs": [],
   "source": [
    "plot_proximity(Cerebellum,'24-mo-female-5','Microglia NN', 'CB Granule Glut')"
   ]
  },
  {
   "cell_type": "code",
   "execution_count": null,
   "id": "618b3b57-700e-411f-adf7-8b92af531a46",
   "metadata": {},
   "outputs": [],
   "source": [
    "plot_proximity(Cerebellum,'3-mo-female-1-rev2','Microglia NN', 'CB Granule Glut')"
   ]
  },
  {
   "cell_type": "code",
   "execution_count": null,
   "id": "0f5bc599-22a7-4959-a35c-23f8ca218a9a",
   "metadata": {},
   "outputs": [],
   "source": [
    "plot_proximity(Hippocampus,'3-mo-female-1-rev2','Microglia NN', 'DG Glut')"
   ]
  },
  {
   "cell_type": "code",
   "execution_count": null,
   "id": "1ae241d8-24ba-46a4-84b8-e7115d523d5b",
   "metadata": {},
   "outputs": [],
   "source": [
    "plot_proximity(Hippocampus,'24-mo-female-3','Microglia NN', 'DG Glut')"
   ]
  },
  {
   "cell_type": "code",
   "execution_count": null,
   "id": "b41db1a4-9051-4825-9412-c258e8c3742d",
   "metadata": {},
   "outputs": [],
   "source": [
    "# Now we are calculating the number of cells within each layer of the CB\n",
    "adata_cer_regions = label_microglia_layers(Cerebellum, distance_threshold=30)"
   ]
  },
  {
   "cell_type": "code",
   "execution_count": null,
   "id": "3e07acd9-e46f-4e95-be60-e98ecc5b546e",
   "metadata": {},
   "outputs": [],
   "source": [
    "layer_percentages = calculate_layer_percentages(adata_cer_regions)\n",
    "plot_layer_percentages(layer_percentages,savefig='Figures/percentage_microglia.pdf')"
   ]
  },
  {
   "cell_type": "code",
   "execution_count": null,
   "id": "4e1a329d-cb47-43aa-b15d-8c46dbca6e70",
   "metadata": {},
   "outputs": [],
   "source": [
    "layer_percentages"
   ]
  },
  {
   "cell_type": "code",
   "execution_count": null,
   "id": "a53eef49-e3c6-4e0b-bacd-8e2a9cdde436",
   "metadata": {},
   "outputs": [],
   "source": []
  }
 ],
 "metadata": {
  "kernelspec": {
   "display_name": "Vizgen_2",
   "language": "python",
   "name": "vizgen_2"
  },
  "language_info": {
   "codemirror_mode": {
    "name": "ipython",
    "version": 3
   },
   "file_extension": ".py",
   "mimetype": "text/x-python",
   "name": "python",
   "nbconvert_exporter": "python",
   "pygments_lexer": "ipython3",
   "version": "3.9.19"
  }
 },
 "nbformat": 4,
 "nbformat_minor": 5
}
