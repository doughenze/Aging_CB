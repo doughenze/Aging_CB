{
 "cells": [
  {
   "cell_type": "code",
   "execution_count": null,
   "id": "94afcb4a-ad12-4106-9418-746fe0ad5934",
   "metadata": {},
   "outputs": [],
   "source": [
    "import scanpy as sc\n",
    "import numpy as np\n",
    "import pandas as pd\n",
    "import matplotlib.pyplot as plt\n",
    "from matplotlib.colors import LinearSegmentedColormap, Normalize\n",
    "import gseapy as gp\n",
    "from tqdm import tqdm\n",
    "from adjustText import adjust_text\n",
    "import seaborn as sns\n",
    "import anndata\n",
    "\n",
    "def plot_gene_expression(anndata, batchID, genes,cmap='viridis',save_path=None,vmax=None,background='black'):\n",
    "    \"\"\"\n",
    "    Plots the expression of a list of genes on a black background for a specified batchID.\n",
    "\n",
    "    Parameters:\n",
    "    - anndata: AnnData object containing the data.\n",
    "    - batchID: The batchID to subset the data by.\n",
    "    - genes: List of genes to iterate through and plot their expression.\n",
    "    \"\"\"\n",
    "    # Subset the data based on the batchID\n",
    "    subset_data = anndata[anndata.obs.batchID == batchID]\n",
    "    # Loop through each gene in the genes list and create a plot\n",
    "    for gene in genes:\n",
    "        fig, ax = plt.subplots(figsize=(14, 14))\n",
    "        ax.set_facecolor(background)  # Set the background to black\n",
    "        \n",
    "        if vmax:\n",
    "            sc.pl.spatial(\n",
    "            subset_data,\n",
    "            color=gene,  # Plot the expression of the current gene\n",
    "            cmap=cmap,  # Color map for better contrast on a black background\n",
    "            spot_size=15,\n",
    "            ax=ax,\n",
    "            vmax=vmax\n",
    "            )\n",
    "        else:   \n",
    "            # Plot the spatial data with the current gene expression\n",
    "            sc.pl.spatial(\n",
    "            subset_data,\n",
    "            color=gene,  # Plot the expression of the current gene\n",
    "            cmap=cmap,  # Color map for better contrast on a black background\n",
    "            spot_size=15,\n",
    "            ax=ax\n",
    "            )\n",
    "        if save_path:\n",
    "            fig.savefig(f\"{save_path}{gene}.pdf\", format='pdf')\n",
    "            \n",
    "def shifted_colormap(base_cmap, midpoint=0.5, name='shifted_cmap'):\n",
    "    \"\"\"\n",
    "    Shifts the center of a colormap.\n",
    "    \n",
    "    Parameters:\n",
    "        base_cmap: Colormap to adjust.\n",
    "        midpoint: The new center for the colormap (0.0 to 1.0).\n",
    "        name: Name of the new colormap.\n",
    "        \n",
    "    Returns:\n",
    "        A shifted colormap.\n",
    "    \"\"\"\n",
    "    cdict = {'red': [], 'green': [], 'blue': [], 'alpha': []}\n",
    "    \n",
    "    # Regular index to shifted index\n",
    "    reg_index = np.linspace(0, 1, 256)\n",
    "    shift_index = np.hstack([\n",
    "        np.linspace(0, midpoint, 128, endpoint=False), \n",
    "        np.linspace(midpoint, 1, 128)\n",
    "    ])\n",
    "    \n",
    "    for ri, si in zip(reg_index, shift_index):\n",
    "        r, g, b, a = plt.cm.get_cmap(base_cmap)(ri)\n",
    "        cdict['red'].append((si, r, r))\n",
    "        cdict['green'].append((si, g, g))\n",
    "        cdict['blue'].append((si, b, b))\n",
    "        cdict['alpha'].append((si, a, a))\n",
    "        \n",
    "    return LinearSegmentedColormap(name, cdict)"
   ]
  },
  {
   "cell_type": "code",
   "execution_count": null,
   "id": "ac54067f-d3d7-411a-9de0-3757aa0d90e1",
   "metadata": {},
   "outputs": [],
   "source": [
    "adata = sc.read_h5ad('ABC_cleaned.h5ad')\n",
    "adata_HQ = adata[adata.obs.subclass_label_confidence > 0.5]\n",
    "\n",
    "adata_HQ.X = adata_HQ.layers['counts'].toarray().copy()\n",
    "sc.pp.normalize_total(adata_HQ)\n",
    "sc.pp.log1p(adata_HQ)\n",
    "\n",
    "\n",
    "Cerebellum = adata_HQ[(adata_HQ.obs.Brain_Region == 'Cerebellum') & (adata_HQ.obs.adjusted_subclass_label_confidence > 0.5)].copy()\n",
    "Hippocampus = adata_HQ[(adata_HQ.obs.Brain_Region == 'Hippocampus')& (adata_HQ.obs.adjusted_subclass_label_confidence > 0.5)].copy()\n",
    "interest = ['Cdk2', 'Cxcl2', 'Slamf9', 'Arhgap5', 'Ctss', 'Atp2a3', 'H2-K1']\n",
    "cmap = sns.blend_palette([\"gainsboro\", sns.xkcd_rgb[\"black\"]], as_cmap=True)"
   ]
  },
  {
   "cell_type": "code",
   "execution_count": null,
   "id": "3329b968-ac19-491f-ac1f-4ba4d5f86f19",
   "metadata": {},
   "outputs": [],
   "source": [
    "plot_gene_expression(Cerebellum, '3-mo-female-1-rev2', interest,cmap='viridis',save_path='Gene_example_images/3m_CB/')"
   ]
  },
  {
   "cell_type": "code",
   "execution_count": null,
   "id": "81e3fd09-6808-4e8e-b51f-064e4131224b",
   "metadata": {},
   "outputs": [],
   "source": [
    "plot_gene_expression(Cerebellum, '24-mo-female-5', interest,cmap='viridis',save_path='Gene_example_images/24m_CB/')"
   ]
  },
  {
   "cell_type": "code",
   "execution_count": null,
   "id": "4fb22bed-707b-4395-be92-bb402ff7aafb",
   "metadata": {},
   "outputs": [],
   "source": [
    "plot_gene_expression(Hippocampus, '3-mo-female-2', interest,cmap='viridis',save_path='Gene_example_images/3m_HP/')"
   ]
  },
  {
   "cell_type": "code",
   "execution_count": null,
   "id": "c18fb755-d082-4573-870a-4dc1eefb459c",
   "metadata": {},
   "outputs": [],
   "source": [
    "plot_gene_expression(Hippocampus, '24-mo-female-3', interest,cmap='viridis',save_path='Gene_example_images/24m_HP/')"
   ]
  },
  {
   "cell_type": "markdown",
   "id": "98be179b-97fb-43bb-9465-2af05a7781d4",
   "metadata": {},
   "source": [
    "# Module Scoring: Granule Influence"
   ]
  },
  {
   "cell_type": "code",
   "execution_count": null,
   "id": "83700909-4384-485e-9f8a-1143ee7f44b7",
   "metadata": {},
   "outputs": [],
   "source": [
    "sc.pp.scale(Cerebellum,max_value=10)\n",
    "sc.pp.scale(Hippocampus,max_value=10)\n",
    "\n",
    "sc.tl.score_genes(Cerebellum, gene_list=interest, score_name='activation')\n",
    "sc.tl.score_genes(Hippocampus, gene_list=interest, score_name='activation')"
   ]
  },
  {
   "cell_type": "code",
   "execution_count": null,
   "id": "f541a49c-4dab-48ab-b873-a424bd2666a9",
   "metadata": {},
   "outputs": [],
   "source": [
    "viridis_base_purple = '#440154'  # Hex code for the base purple in viridis\n",
    "\n",
    "# Create a custom colormap with less gradual transition\n",
    "# The first value '0.0' maps to purple, '0.7' stays closer to purple, and '1.0' is yellow\n",
    "purple_yellow_cmap = LinearSegmentedColormap.from_list(\n",
    "    'PurpleYellow', \n",
    "    [(0.0, viridis_base_purple), (0.8, 'yellow'), (1.0, 'yellow')]\n",
    ")\n",
    "\n",
    "# Example visualization\n",
    "fig, ax = plt.subplots(figsize=(6, 1))\n",
    "plt.colorbar(plt.cm.ScalarMappable(cmap=purple_yellow_cmap), cax=ax, orientation='horizontal')\n",
    "plt.title('Custom Purple-Yellow Colormap (Less Gradual Transition)')\n",
    "plt.show()"
   ]
  },
  {
   "cell_type": "code",
   "execution_count": null,
   "id": "1830120c-9ba5-4fff-acf9-54c64e939746",
   "metadata": {},
   "outputs": [],
   "source": [
    "plot_gene_expression(Cerebellum, '3-mo-female-1-rev2', ['activation'],cmap=purple_yellow_cmap,vmax=2.5,save_path='Gene_example_images/3m_CB_score/')"
   ]
  },
  {
   "cell_type": "code",
   "execution_count": null,
   "id": "9cd1bbec-5254-4f9e-984a-5947907286aa",
   "metadata": {},
   "outputs": [],
   "source": [
    "plot_gene_expression(Cerebellum, '24-mo-female-5', ['activation'],cmap=purple_yellow_cmap,vmax=2.5,save_path='Gene_example_images/24m_CB_score/',background='black')"
   ]
  },
  {
   "cell_type": "code",
   "execution_count": null,
   "id": "b5853da0-ad26-4e9f-a34c-2b325ab2bdaf",
   "metadata": {},
   "outputs": [],
   "source": [
    "plot_gene_expression(Hippocampus, '3-mo-female-2', ['activation'],cmap=purple_yellow_cmap,vmax=2.5,save_path='Gene_example_images/3m_HP_score/')"
   ]
  },
  {
   "cell_type": "code",
   "execution_count": null,
   "id": "88349e9d-0cbd-4f48-8273-5c77c5a41e8f",
   "metadata": {},
   "outputs": [],
   "source": [
    "plot_gene_expression(Hippocampus, '24-mo-female-3', ['activation'],cmap=purple_yellow_cmap,vmax=2.5,save_path='Gene_example_images/24m_HP_score/')"
   ]
  }
 ],
 "metadata": {
  "kernelspec": {
   "display_name": "Vizgen_2",
   "language": "python",
   "name": "vizgen_2"
  },
  "language_info": {
   "codemirror_mode": {
    "name": "ipython",
    "version": 3
   },
   "file_extension": ".py",
   "mimetype": "text/x-python",
   "name": "python",
   "nbconvert_exporter": "python",
   "pygments_lexer": "ipython3",
   "version": "3.9.19"
  }
 },
 "nbformat": 4,
 "nbformat_minor": 5
}
