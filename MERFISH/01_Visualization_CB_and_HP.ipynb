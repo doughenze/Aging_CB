{
 "cells": [
  {
   "cell_type": "code",
   "execution_count": null,
   "id": "1eb35829-0a24-40d2-ba7f-2707c8c7aa39",
   "metadata": {},
   "outputs": [],
   "source": [
    "import scanpy as sc\n",
    "import numpy as np\n",
    "import pandas as pd\n",
    "import matplotlib.pyplot as plt\n",
    "import gseapy as gp\n",
    "from tqdm import tqdm\n",
    "from adjustText import adjust_text\n",
    "import seaborn as sns\n",
    "import anndata"
   ]
  },
  {
   "cell_type": "code",
   "execution_count": null,
   "id": "54461b95-51dc-499f-a46c-367ed19b8aed",
   "metadata": {},
   "outputs": [],
   "source": [
    "adata = sc.read_h5ad('ABC_cleaned.h5ad')\n",
    "\n",
    "#wanting to make sure we only show the neurons with a high confidence\n",
    "adata_HQ = adata[adata.obs.subclass_label_confidence > 0.8]\n",
    "\n",
    "adata_HQ.X = adata_HQ.layers['counts'].toarray().copy()\n",
    "sc.pp.normalize_total(adata_HQ)\n",
    "sc.pp.log1p(adata_HQ)"
   ]
  },
  {
   "cell_type": "code",
   "execution_count": null,
   "id": "ef3f9bb1-cfbd-42ee-b164-1df853176c0c",
   "metadata": {},
   "outputs": [],
   "source": [
    "# pick two brains with good looking Cerebellums\n",
    "testing_3 = adata_HQ[(adata_HQ.obs.batchID == '3-mo-female-3') & (adata_HQ.obs.Brain_Region == 'Cerebellum')]\n",
    "testing_24 = adata_HQ[(adata_HQ.obs.batchID == '24-mo-female-5') & (adata_HQ.obs.Brain_Region == 'Cerebellum')]\n",
    "\n",
    "testing_24.obsm['spatial'][:,0] += 2500\n",
    "\n",
    "ad_visual = anndata.concat([testing_3,testing_24])\n",
    "\n",
    "# plot the two brains next to eachother.\n",
    "fig, ax = plt.subplots(figsize=(14,14))\n",
    "sc.pl.spatial(ad_visual,color='class',spot_size=25,ax=ax,save='3m_left_24m_right_cerebelli.pdf')"
   ]
  },
  {
   "cell_type": "code",
   "execution_count": null,
   "id": "8833f6a6-3f0e-40eb-8208-efd1055f30ba",
   "metadata": {},
   "outputs": [],
   "source": [
    "# Just repeat the process with the Hippocampi in brains that look the best.\n",
    "\n",
    "testing_3 = adata_HQ[(adata_HQ.obs.batchID == '3-mo-female-1-rev2') & (adata_HQ.obs.Brain_Region == 'Hippocampus')]\n",
    "testing_24 = adata_HQ[(adata_HQ.obs.batchID == '24-mo-female-3') & (adata_HQ.obs.Brain_Region == 'Hippocampus')]\n",
    "\n",
    "testing_24.obsm['spatial'][:,0] += 2500\n",
    "\n",
    "ad_visual = anndata.concat([testing_3,testing_24])\n",
    "\n",
    "fig, ax = plt.subplots(figsize=(14,14))\n",
    "sc.pl.spatial(ad_visual,color='class',spot_size=25,ax=ax,save='3m_left_24m_right_hippocampi.pdf')"
   ]
  },
  {
   "cell_type": "code",
   "execution_count": null,
   "id": "4c4fc949-b59e-40eb-bc65-5f6a0e912d92",
   "metadata": {},
   "outputs": [],
   "source": [
    "#"
   ]
  }
 ],
 "metadata": {
  "kernelspec": {
   "display_name": "Vizgen_2",
   "language": "python",
   "name": "vizgen_2"
  },
  "language_info": {
   "codemirror_mode": {
    "name": "ipython",
    "version": 3
   },
   "file_extension": ".py",
   "mimetype": "text/x-python",
   "name": "python",
   "nbconvert_exporter": "python",
   "pygments_lexer": "ipython3",
   "version": "3.9.19"
  }
 },
 "nbformat": 4,
 "nbformat_minor": 5
}
